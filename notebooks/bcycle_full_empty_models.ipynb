{
 "cells": [
  {
   "cell_type": "markdown",
   "metadata": {},
   "source": [
    "# BCycle Austin Full / Empty models\n",
    "\n",
    "This notebook concludes the BCycle Austin series of blog posts, and looks at how machine learning could be used to help the BCycle team. I'll be using weather data in addition to the station and bike information, and building models which I hope might be useful. Let's get started !"
   ]
  },
  {
   "cell_type": "markdown",
   "metadata": {},
   "source": [
    "## Imports and data loading\n",
    "\n",
    "Before getting started, let's import some useful libraries for visualization, and the bcycle utils library."
   ]
  },
  {
   "cell_type": "code",
   "execution_count": 1,
   "metadata": {
    "collapsed": false
   },
   "outputs": [],
   "source": [
    "import pandas as pd\n",
    "import numpy as np\n",
    "import matplotlib.pyplot as plt\n",
    "import folium\n",
    "import seaborn as sns\n",
    "\n",
    "import datetime\n",
    "\n",
    "from bcycle_lib.utils import *\n",
    "\n",
    "%matplotlib inline\n",
    "plt.rc('xtick', labelsize=14) \n",
    "plt.rc('ytick', labelsize=14) \n",
    "\n",
    "# for auto-reloading external modules\n",
    "# see http://stackoverflow.com/questions/1907993/autoreload-of-modules-in-ipython\n",
    "%load_ext autoreload\n",
    "%autoreload 2"
   ]
  },
  {
   "cell_type": "markdown",
   "metadata": {},
   "source": [
    "## Station full/empty prediction as classification problem\n",
    "\n",
    "First of all, treat stations being full or empty as a classification problem. First build a model which can predict if a station will run out of bikes given the time and weather.\n"
   ]
  },
  {
   "cell_type": "code",
   "execution_count": 7,
   "metadata": {
    "collapsed": false
   },
   "outputs": [],
   "source": [
    "bikes_df = load_bikes()\n",
    "bike_trips_df = load_bike_trips()\n",
    "stations_df = load_stations()\n",
    "weather_df = load_weather()"
   ]
  },
  {
   "cell_type": "code",
   "execution_count": 23,
   "metadata": {
    "collapsed": false
   },
   "outputs": [
    {
     "data": {
      "text/html": [
       "<div>\n",
       "<table border=\"1\" class=\"dataframe\">\n",
       "  <thead>\n",
       "    <tr style=\"text-align: right;\">\n",
       "      <th></th>\n",
       "      <th>station_id</th>\n",
       "      <th>bikes</th>\n",
       "      <th>docks</th>\n",
       "      <th>empty</th>\n",
       "      <th>full</th>\n",
       "      <th>ok</th>\n",
       "      <th>dayofweek</th>\n",
       "      <th>hour</th>\n",
       "      <th>minute</th>\n",
       "    </tr>\n",
       "    <tr>\n",
       "      <th>datetime</th>\n",
       "      <th></th>\n",
       "      <th></th>\n",
       "      <th></th>\n",
       "      <th></th>\n",
       "      <th></th>\n",
       "      <th></th>\n",
       "      <th></th>\n",
       "      <th></th>\n",
       "      <th></th>\n",
       "    </tr>\n",
       "  </thead>\n",
       "  <tbody>\n",
       "    <tr>\n",
       "      <th>2016-04-01</th>\n",
       "      <td>1</td>\n",
       "      <td>6</td>\n",
       "      <td>7</td>\n",
       "      <td>False</td>\n",
       "      <td>False</td>\n",
       "      <td>True</td>\n",
       "      <td>4</td>\n",
       "      <td>0</td>\n",
       "      <td>0</td>\n",
       "    </tr>\n",
       "    <tr>\n",
       "      <th>2016-04-01</th>\n",
       "      <td>2</td>\n",
       "      <td>5</td>\n",
       "      <td>8</td>\n",
       "      <td>False</td>\n",
       "      <td>False</td>\n",
       "      <td>True</td>\n",
       "      <td>4</td>\n",
       "      <td>0</td>\n",
       "      <td>0</td>\n",
       "    </tr>\n",
       "    <tr>\n",
       "      <th>2016-04-01</th>\n",
       "      <td>3</td>\n",
       "      <td>4</td>\n",
       "      <td>9</td>\n",
       "      <td>False</td>\n",
       "      <td>False</td>\n",
       "      <td>True</td>\n",
       "      <td>4</td>\n",
       "      <td>0</td>\n",
       "      <td>0</td>\n",
       "    </tr>\n",
       "    <tr>\n",
       "      <th>2016-04-01</th>\n",
       "      <td>4</td>\n",
       "      <td>7</td>\n",
       "      <td>11</td>\n",
       "      <td>False</td>\n",
       "      <td>False</td>\n",
       "      <td>True</td>\n",
       "      <td>4</td>\n",
       "      <td>0</td>\n",
       "      <td>0</td>\n",
       "    </tr>\n",
       "    <tr>\n",
       "      <th>2016-04-01</th>\n",
       "      <td>5</td>\n",
       "      <td>8</td>\n",
       "      <td>11</td>\n",
       "      <td>False</td>\n",
       "      <td>False</td>\n",
       "      <td>True</td>\n",
       "      <td>4</td>\n",
       "      <td>0</td>\n",
       "      <td>0</td>\n",
       "    </tr>\n",
       "  </tbody>\n",
       "</table>\n",
       "</div>"
      ],
      "text/plain": [
       "            station_id  bikes  docks  empty   full    ok  dayofweek  hour  \\\n",
       "datetime                                                                    \n",
       "2016-04-01           1      6      7  False  False  True          4     0   \n",
       "2016-04-01           2      5      8  False  False  True          4     0   \n",
       "2016-04-01           3      4      9  False  False  True          4     0   \n",
       "2016-04-01           4      7     11  False  False  True          4     0   \n",
       "2016-04-01           5      8     11  False  False  True          4     0   \n",
       "\n",
       "            minute  \n",
       "datetime            \n",
       "2016-04-01       0  \n",
       "2016-04-01       0  \n",
       "2016-04-01       0  \n",
       "2016-04-01       0  \n",
       "2016-04-01       0  "
      ]
     },
     "execution_count": 23,
     "metadata": {},
     "output_type": "execute_result"
    }
   ],
   "source": [
    "# Create a set of categories for the model to predict\n",
    "bike_model_df = bikes_df.copy()\n",
    "\n",
    "# Create empty, full, and ok indicators\n",
    "bike_model_df['empty'] = bike_model_df['bikes'] == 0\n",
    "bike_model_df['full'] = bike_model_df['docks'] == 0\n",
    "bike_model_df['ok'] = ~bike_model_df['full'] & ~bike_model_df['empty']\n",
    "\n",
    "# Now use the datetime and extract the day of week, hour of day, and minute\n",
    "bike_model_df['dayofweek'] = bike_model_df['datetime'].dt.dayofweek\n",
    "bike_model_df['hour'] = bike_model_df['datetime'].dt.hour\n",
    "bike_model_df['minute'] = bike_model_df['datetime'].dt.minute\n",
    "bike_model_df = bike_model_df.set_index('datetime')\n",
    "bike_model_df.head()"
   ]
  },
  {
   "cell_type": "code",
   "execution_count": 50,
   "metadata": {
    "collapsed": false
   },
   "outputs": [
    {
     "name": "stdout",
     "output_type": "stream",
     "text": [
      "\n",
      "Training data first and last row:\n",
      "station_id        1\n",
      "bikes             6\n",
      "docks             7\n",
      "empty         False\n",
      "full          False\n",
      "ok             True\n",
      "dayofweek         4\n",
      "hour              0\n",
      "minute            0\n",
      "Name: 2016-04-01 00:00:00, dtype: object\n",
      "station_id       48\n",
      "bikes             9\n",
      "docks             2\n",
      "empty         False\n",
      "full          False\n",
      "ok             True\n",
      "dayofweek         6\n",
      "hour              0\n",
      "minute            0\n",
      "Name: 2016-05-15 00:00:00, dtype: object\n",
      "\n",
      "Validation data first and last row:\n",
      "station_id        1\n",
      "bikes            11\n",
      "docks             2\n",
      "empty         False\n",
      "full          False\n",
      "ok             True\n",
      "dayofweek         0\n",
      "hour              0\n",
      "minute            0\n",
      "Name: 2016-05-16 00:00:00, dtype: object\n",
      "station_id       49\n",
      "bikes             7\n",
      "docks             2\n",
      "empty         False\n",
      "full          False\n",
      "ok             True\n",
      "dayofweek         1\n",
      "hour              0\n",
      "minute            0\n",
      "Name: 2016-05-31 00:00:00, dtype: object\n"
     ]
    }
   ],
   "source": [
    "# Create date ranges\n",
    "TRAIN_START = '2016-04-01'\n",
    "TRAIN_END   = '2016-05-15'\n",
    "VAL_START   = '2016-05-16'\n",
    "VAL_END     = '2016-05-31'\n",
    "\n",
    "VALID_STATIONS = range(1,49)\n",
    "\n",
    "print('\\nTraining data first and last row:\\n{}\\n{}'.format(train_df.iloc[0], train_df.iloc[-1]))\n",
    "print('\\nValidation data first and last row:\\n{}\\n{}'.format(val_df.iloc[0], val_df.iloc[-1]))"
   ]
  },
  {
   "cell_type": "code",
   "execution_count": 117,
   "metadata": {
    "collapsed": false
   },
   "outputs": [
    {
     "name": "stdout",
     "output_type": "stream",
     "text": [
      "            station_id  bikes  docks  empty   full    ok  dayofweek  hour  \\\n",
      "date                                                                        \n",
      "2016-04-01           1      6      7  False  False  True          4     0   \n",
      "\n",
      "            minute  \n",
      "date                \n",
      "2016-04-01       0  \n",
      "                     station_id  bikes  docks  empty   full    ok  dayofweek  \\\n",
      "date                                                                           \n",
      "2016-05-31 23:55:00           1     11      2  False  False  True          1   \n",
      "\n",
      "                     hour  minute  \n",
      "date                               \n",
      "2016-05-31 23:55:00    23      55  \n"
     ]
    }
   ],
   "source": [
    "stations = dict()\n",
    "\n",
    "for station in VALID_STATIONS:\n",
    "    station_df = bike_model_df[bike_model_df['station_id'] == station]\n",
    "#     station_df = station_df[['dayofweek', 'hour', 'minute', 'ok']]    \n",
    "    stations[station] = station_df\n",
    "    \n",
    "print(stations[1].head(1))\n",
    "print(stations[1].tail(1))"
   ]
  },
  {
   "cell_type": "code",
   "execution_count": 140,
   "metadata": {
    "collapsed": false
   },
   "outputs": [
    {
     "name": "stdout",
     "output_type": "stream",
     "text": [
      "Train: Station 1, predicting ok, accuracy = 0.89\n",
      "Validation: Station 1, accuracy = 0.90\n",
      "Train: Station 2, predicting ok, accuracy = 0.86\n",
      "Validation: Station 2, accuracy = 0.85\n",
      "Train: Station 3, predicting ok, accuracy = 0.97\n",
      "Validation: Station 3, accuracy = 0.94\n",
      "Train: Station 4, predicting ok, accuracy = 0.98\n",
      "Validation: Station 4, accuracy = 0.90\n",
      "Train: Station 5, predicting ok, accuracy = 0.95\n",
      "Validation: Station 5, accuracy = 0.95\n",
      "Train: Station 6, predicting ok, accuracy = 0.93\n",
      "Validation: Station 6, accuracy = 0.94\n",
      "Train: Station 7, predicting ok, accuracy = 0.81\n",
      "Validation: Station 7, accuracy = 0.88\n",
      "Train: Station 8, predicting ok, accuracy = 0.84\n",
      "Validation: Station 8, accuracy = 0.83\n",
      "Train: Station 9, predicting ok, accuracy = 0.96\n",
      "Validation: Station 9, accuracy = 0.92\n",
      "Train: Station 10, predicting ok, accuracy = 0.89\n",
      "Validation: Station 10, accuracy = 0.94\n",
      "Train: Station 11, predicting ok, accuracy = 0.96\n",
      "Validation: Station 11, accuracy = 0.91\n",
      "Train: Station 12, predicting ok, accuracy = 0.99\n",
      "Validation: Station 12, accuracy = 0.93\n",
      "Train: Station 13, predicting ok, accuracy = 0.85\n",
      "Validation: Station 13, accuracy = 0.84\n",
      "Train: Station 14, predicting ok, accuracy = 0.94\n",
      "Validation: Station 14, accuracy = 0.95\n",
      "Train: Station 15, predicting ok, accuracy = 0.99\n",
      "Validation: Station 15, accuracy = 0.90\n",
      "Train: Station 16, predicting ok, accuracy = 0.89\n",
      "Validation: Station 16, accuracy = 0.89\n",
      "Train: Station 17, predicting ok, accuracy = 0.96\n",
      "Validation: Station 17, accuracy = 1.00\n",
      "Train: Station 18, predicting ok, accuracy = 0.99\n",
      "Validation: Station 18, accuracy = 0.99\n",
      "Train: Station 19, predicting ok, accuracy = 0.92\n",
      "Validation: Station 19, accuracy = 0.80\n",
      "Train: Station 20, predicting ok, accuracy = 0.97\n",
      "Validation: Station 20, accuracy = 0.96\n",
      "Train: Station 21, predicting ok, accuracy = 0.90\n",
      "Validation: Station 21, accuracy = 0.93\n",
      "Train: Station 22, predicting ok, accuracy = 0.89\n",
      "Validation: Station 22, accuracy = 0.95\n",
      "Train: Station 23, predicting ok, accuracy = 0.94\n",
      "Validation: Station 23, accuracy = 0.96\n",
      "Train: Station 24, predicting ok, accuracy = 1.00\n",
      "Validation: Station 24, accuracy = 1.00\n",
      "Train: Station 25, predicting ok, accuracy = 0.96\n",
      "Validation: Station 25, accuracy = 0.97\n",
      "Train: Station 26, predicting ok, accuracy = 0.95\n",
      "Validation: Station 26, accuracy = 0.89\n",
      "Train: Station 27, predicting ok, accuracy = 0.92\n",
      "Validation: Station 27, accuracy = 0.93\n",
      "Train: Station 28, predicting ok, accuracy = 0.88\n",
      "Validation: Station 28, accuracy = 0.88\n",
      "Train: Station 29, predicting ok, accuracy = 0.99\n",
      "Validation: Station 29, accuracy = 0.99\n",
      "Train: Station 30, predicting ok, accuracy = 0.98\n",
      "Validation: Station 30, accuracy = 0.97\n",
      "Train: Station 31, predicting ok, accuracy = 0.98\n",
      "Validation: Station 31, accuracy = 0.91\n",
      "Train: Station 32, predicting ok, accuracy = 0.95\n",
      "Validation: Station 32, accuracy = 0.93\n",
      "Train: Station 33, predicting ok, accuracy = 0.91\n",
      "Validation: Station 33, accuracy = 0.92\n",
      "Train: Station 34, predicting ok, accuracy = 0.96\n",
      "Validation: Station 34, accuracy = 0.97\n",
      "Train: Station 35, predicting ok, accuracy = 0.91\n",
      "Validation: Station 35, accuracy = 0.88\n",
      "Train: Station 36, predicting ok, accuracy = 0.93\n",
      "Validation: Station 36, accuracy = 0.97\n",
      "Train: Station 37, predicting ok, accuracy = 0.79\n",
      "Validation: Station 37, accuracy = 0.81\n",
      "Train: Station 38, predicting ok, accuracy = 0.92\n",
      "Validation: Station 38, accuracy = 0.90\n",
      "Train: Station 39, predicting ok, accuracy = 0.94\n",
      "Validation: Station 39, accuracy = 0.91\n",
      "Train: Station 40, predicting ok, accuracy = 0.97\n",
      "Validation: Station 40, accuracy = 0.94\n",
      "Train: Station 41, predicting ok, accuracy = 0.97\n",
      "Validation: Station 41, accuracy = 1.00\n",
      "Train: Station 42, predicting ok, accuracy = 0.98\n",
      "Validation: Station 42, accuracy = 0.91\n",
      "Train: Station 43, predicting ok, accuracy = 0.86\n",
      "Validation: Station 43, accuracy = 0.89\n",
      "Train: Station 44, predicting ok, accuracy = 0.96\n",
      "Validation: Station 44, accuracy = 0.93\n",
      "Train: Station 45, predicting ok, accuracy = 0.99\n",
      "Validation: Station 45, accuracy = 0.98\n",
      "Train: Station 46, predicting ok, accuracy = 1.00\n",
      "Validation: Station 46, accuracy = 0.98\n",
      "Train: Station 47, predicting ok, accuracy = 0.98\n",
      "Validation: Station 47, accuracy = 0.93\n",
      "Train: Station 48, predicting ok, accuracy = 0.85\n",
      "Validation: Station 48, accuracy = 0.89\n"
     ]
    }
   ],
   "source": [
    "# Simple baseline - predict most common case\n",
    "\n",
    "\n",
    "common_scores = dict()\n",
    "\n",
    "for station_id, station_df in stations.items():\n",
    "#     print(station_id)\n",
    "\n",
    "    station_train_df = station_df.loc[TRAIN_START:TRAIN_END,:]\n",
    "    station_val_df = station_df.loc[VAL_START:VAL_END,:]\n",
    "    n_train = station_train_df.shape[0]\n",
    "    n_val = station_val_df.shape[0]\n",
    "    assert n_train + n_val == station_df.shape[0]\n",
    "\n",
    "    pred = station_df[['empty', 'full', 'ok']].sum().idxmax()\n",
    "    train_acc = station_train_df[pred].sum() / float(n_train)\n",
    "    print('Train: Station {}, predicting {}, accuracy = {:.2f}'.format(station_id, pred, train_acc))\n",
    "    \n",
    "    val_acc = station_val_df[pred].sum() / float(n_val)\n",
    "    print('Validation: Station {}, accuracy = {:.2f}'.format(station_id, val_acc))\n",
    "    \n",
    "#     acc = train_array[max_index] / n_rows\n",
    "\n",
    "#     assert total_empty + total_full + total_ok == n_rows\n",
    "#     print('Station ID {}, total_empty {}, total full {}, total ok {}'.format(station_id, total_empty, total_full, total_ok))\n",
    "#     print('Station ID {}, max_index {} - {}'.format(station_id, total_array, max_index))\n",
    "#     print('Station ID {}, accuracy {}'.format(station_id, acc))\n",
    "\n",
    "    \n",
    "    #     lbe = LabelBinarizer()\n",
    "#     dayofweek_ohe = lbe.fit_transform(station_df['dayofweek'])\n",
    "#     X = np.hstack((station_df[['dayofweek', 'hour', 'minute']].values, dayofweek_ohe))\n",
    "#     y = station_df['ok'].astype(np.bool)\n",
    "\n",
    "#     train_stations[station_id] = (X_train, y_train)\n",
    "#     val_stations[station_id] = (X_val, y_val)"
   ]
  },
  {
   "cell_type": "code",
   "execution_count": 142,
   "metadata": {
    "collapsed": false
   },
   "outputs": [
    {
     "data": {
      "text/plain": [
       "{1: (0.61897392246382421, 0.60034980323567988),\n",
       " 2: (0.53973535556759267, 0.48119807608220377),\n",
       " 3: (0.74402228584693952, 0.6119370354175776),\n",
       " 4: (0.65944440145477057, 0.67927415828596416),\n",
       " 5: (0.59800355954499729, 0.61149978137297767),\n",
       " 6: (0.55807475044494315, 0.66943594228246617),\n",
       " 7: (0.51156852124119789, 0.40730214254481856),\n",
       " 8: (0.61162268823028709, 0.61740271097507649),\n",
       " 9: (0.5544378240346669, 0.57455181460428506),\n",
       " 10: (0.62230132322216203, 0.58900701198823791),\n",
       " 11: (0.63638474038535942, 0.67205946655006554),\n",
       " 12: (0.58817612009595299, 0.62243113248797555),\n",
       " 13: (0.59939642497872014, 0.50240489724529946),\n",
       " 14: (0.64195620212025073, 0.48819414079580237),\n",
       " 15: (0.74487348138977016, 0.64910362920857023),\n",
       " 16: (0.619206066702778, 0.52798425885439437),\n",
       " 17: (0.69952797338079398, 0.72846523830345433),\n",
       " 18: (0.73249245531223395, 0.68167905553126362),\n",
       " 19: (0.49330650777683199, 0.48731963270660256),\n",
       " 20: (0.51536021047744329, 0.50743331875819853),\n",
       " 21: (0.72862338466300391, 0.67249672059466548),\n",
       " 22: (0.63561092625551341, 0.63292522955837338),\n",
       " 23: (0.60326549562795018, 0.59510275470048102),\n",
       " 24: (0.74317109030410899, 0.79055531263664192),\n",
       " 25: (0.56519384043952647, 0.59663314385658073),\n",
       " 26: (0.46676468312311381, 0.52448622649759513),\n",
       " 27: (0.65294436276406409, 0.65325754263226932),\n",
       " 28: (0.61471794474967112, 0.5524704853519895),\n",
       " 29: (0.69743867523020975, 0.75032794053344998),\n",
       " 30: (0.71028398978565344, 0.75623087013554879),\n",
       " 31: (0.69434341871082561, 0.55793616090948839),\n",
       " 32: (0.76135572235549021, 0.74573677306515085),\n",
       " 33: (0.5811344115143543, 0.59991254919108006),\n",
       " 34: (0.71299233924011451, 0.71337997376475737),\n",
       " 35: (0.68985529675771884, 0.679930039352864),\n",
       " 36: (0.70161727153137821, 0.59182334936598169),\n",
       " 37: (0.61866439681188579, 0.50699606471359859),\n",
       " 38: (0.70045655033660914, 0.64429383471797119),\n",
       " 39: (0.61425365627176354, 0.43419326628771315),\n",
       " 40: (0.62268823028708509, 0.67490161783996505),\n",
       " 41: (0.66416466764683124, 0.64910362920857023),\n",
       " 42: (0.64582527276948076, 0.64210756449497153),\n",
       " 43: (0.56480693337460341, 0.6132487975513774),\n",
       " 44: (0.70146250870540894, 0.75535636204634893),\n",
       " 45: (0.68962315251876505, 0.72715347616965453),\n",
       " 46: (0.76243906213727464, 0.72955837341495411),\n",
       " 47: (0.7260697980345121, 0.65194578049846963),\n",
       " 48: (0.54809254816992958, 0.58548316571928294)}"
      ]
     },
     "execution_count": 142,
     "metadata": {},
     "output_type": "execute_result"
    }
   ],
   "source": [
    "# Now create a logistic regression using the time features\n",
    "from sklearn.linear_model import LogisticRegression\n",
    "from sklearn.preprocessing import LabelBinarizer\n",
    "\n",
    "# print(stations)\n",
    "station_scores = dict()\n",
    "\n",
    "for station_id, (X_train, y_train) in train_stations.items():\n",
    "\n",
    "    (X_val, y_val) = val_stations[station_id]\n",
    "    clf = LogisticRegression(class_weight='balanced')\n",
    "    clf.fit(X_train, y_train)\n",
    "    # y_train_pred = clf.predict(val_df[['dayofweek', 'hour', 'minute']])\n",
    "    clf_pred_val_score = clf.score(X_train, y_train)\n",
    "    clf_pred_train_score = clf.score(X_val, y_val)\n",
    "\n",
    "    station_scores[station_id] = (clf_pred_val_score, clf_pred_train_score)\n",
    "    \n",
    "station_scores\n",
    "# # y_val_pred = reg.predict(X_val)\n",
    "# # reg_val_rmse = np.sqrt(mean_squared_error(y_val, y_val_pred))\n",
    "\n",
    "# # # Store the evaluation results\n",
    "# # if 'linreg_time_weather_norm' not in scores_df.index:\n",
    "# #     scores_df = scores_df.append(pd.DataFrame({'train_rmse' : reg_train_rmse, 'val_rmse' : reg_val_rmse}, \n",
    "# #                                               index=['linreg_time_weather_norm']))\n",
    "\n",
    "# # print('Weather Regression RMSE - Train: {:.2f}, Val: {:.2f}'.format(reg_train_rmse, reg_val_rmse))\n",
    "\n",
    "# # reg_result_train_df, reg_result_val_df = df_from_results(train_df.index, y_train, y_train_pred,\n",
    "# #                                                          val_df.index, y_val, y_val_pred)\n",
    "\n",
    "# # plot_results(reg_result_train_df, reg_result_val_df, 'pred', 'true', title='Linear regression with weather')\n"
   ]
  },
  {
   "cell_type": "code",
   "execution_count": 97,
   "metadata": {
    "collapsed": false
   },
   "outputs": [
    {
     "data": {
      "text/plain": [
       "12923"
      ]
     },
     "execution_count": 97,
     "metadata": {},
     "output_type": "execute_result"
    }
   ],
   "source": [
    "stations[1].index.get_loc(VAL_START).start\n",
    "\n",
    "# stations[1].iloc[12923,:]"
   ]
  },
  {
   "cell_type": "code",
   "execution_count": 27,
   "metadata": {
    "collapsed": false
   },
   "outputs": [
    {
     "data": {
      "text/plain": [
       "0.9127086007702182"
      ]
     },
     "execution_count": 27,
     "metadata": {},
     "output_type": "execute_result"
    }
   ],
   "source": [
    "clf_train_score"
   ]
  },
  {
   "cell_type": "code",
   "execution_count": 96,
   "metadata": {
    "collapsed": false
   },
   "outputs": [
    {
     "data": {
      "text/plain": [
       "['__class__',\n",
       " '__delattr__',\n",
       " '__dir__',\n",
       " '__doc__',\n",
       " '__eq__',\n",
       " '__format__',\n",
       " '__ge__',\n",
       " '__getattribute__',\n",
       " '__gt__',\n",
       " '__hash__',\n",
       " '__init__',\n",
       " '__le__',\n",
       " '__lt__',\n",
       " '__ne__',\n",
       " '__new__',\n",
       " '__reduce__',\n",
       " '__reduce_ex__',\n",
       " '__repr__',\n",
       " '__setattr__',\n",
       " '__sizeof__',\n",
       " '__str__',\n",
       " '__subclasshook__',\n",
       " 'indices',\n",
       " 'start',\n",
       " 'step',\n",
       " 'stop']"
      ]
     },
     "execution_count": 96,
     "metadata": {},
     "output_type": "execute_result"
    }
   ],
   "source": [
    "dir(slice)"
   ]
  },
  {
   "cell_type": "code",
   "execution_count": null,
   "metadata": {
    "collapsed": true
   },
   "outputs": [],
   "source": []
  },
  {
   "cell_type": "code",
   "execution_count": null,
   "metadata": {
    "collapsed": false
   },
   "outputs": [],
   "source": [
    "bike_empty_mask = bike_trips_df['bikes'] == 0\n",
    "bike_full_mask = bike_trips_df['docks'] == 0\n",
    "bike_empty_full_mask = bike_empty_mask | bike_full_mask\n",
    "\n",
    "# bike_trips_df[bike_trips_df['station_id'==1]] # , 'checkouts']\n",
    "\n",
    "bike_trips_df.loc[bike_trips_df['station_id'] == 37, ['bikes', 'docks']].resample('1H').max().plot.line(figsize=(20,10))\n",
    "# bike_trips_df = bike_trips_df[bike_empty_full_mask]\n",
    "# bike_trips_df['empty'] =  bike_trips_df['bikes'] == 0\n",
    "# bike_trips_df['full'] = bike_trips_df['docks'] == 0\n",
    "# bike_trips_df.head()"
   ]
  },
  {
   "cell_type": "code",
   "execution_count": null,
   "metadata": {
    "collapsed": false
   },
   "outputs": [],
   "source": [
    "bike_trips_df.loc[bike_trips_df['station_id'] == 13, ['bikes']].plot.hist()"
   ]
  },
  {
   "cell_type": "code",
   "execution_count": null,
   "metadata": {
    "collapsed": false
   },
   "outputs": [],
   "source": [
    "stations_df"
   ]
  },
  {
   "cell_type": "code",
   "execution_count": null,
   "metadata": {
    "collapsed": true
   },
   "outputs": [],
   "source": []
  }
 ],
 "metadata": {
  "anaconda-cloud": {},
  "kernelspec": {
   "display_name": "Python 3",
   "language": "python",
   "name": "python3"
  },
  "language_info": {
   "codemirror_mode": {
    "name": "ipython",
    "version": 3
   },
   "file_extension": ".py",
   "mimetype": "text/x-python",
   "name": "python",
   "nbconvert_exporter": "python",
   "pygments_lexer": "ipython3",
   "version": "3.5.2"
  }
 },
 "nbformat": 4,
 "nbformat_minor": 0
}
