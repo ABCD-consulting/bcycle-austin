{
 "cells": [
  {
   "cell_type": "markdown",
   "metadata": {},
   "source": [
    "# BCycle all-data EDA \n",
    "\n",
    "This notebook explores the entire dataset provided from BCycle. This dataset has the following columns:\n",
    "\n",
    "* `Membership Type`: Text categorical column. Some memberships were renamed during the course of BCycle's operation.\n",
    "* `Bike`: Integer identifier for the bike used in each trip.\n",
    "* `Checkout Date`: MM/DD/YY formatted date of the checkout\n",
    "* `Checkout Time`: HH:MM AM/PM formatted time of the checkout.\n",
    "* `Checkout Kiosk`: The kiosk where the bike trip started.\n",
    "* `Return Kiosk`: The kiosk where the bike trip ended.\n",
    "* `Duration (Minutes)`:  Integer length of bike trip (rounded?).\n"
   ]
  },
  {
   "cell_type": "markdown",
   "metadata": {},
   "source": [
    "## Imports and data loading\n",
    "\n",
    "Before getting started, let's import some useful libraries for visualization, and the bcycle utils library."
   ]
  },
  {
   "cell_type": "code",
   "execution_count": 2,
   "metadata": {
    "collapsed": false
   },
   "outputs": [
    {
     "name": "stdout",
     "output_type": "stream",
     "text": [
      "The autoreload extension is already loaded. To reload it, use:\n",
      "  %reload_ext autoreload\n"
     ]
    }
   ],
   "source": [
    "import pandas as pd\n",
    "import numpy as np\n",
    "import matplotlib.pyplot as plt\n",
    "import seaborn as sns\n",
    "\n",
    "%matplotlib inline\n",
    "plt.rc('xtick', labelsize=14) \n",
    "plt.rc('ytick', labelsize=14) \n",
    "\n",
    "# for auto-reloading external modules\n",
    "# see http://stackoverflow.com/questions/1907993/autoreload-of-modules-in-ipython\n",
    "%load_ext autoreload\n",
    "%autoreload 2"
   ]
  },
  {
   "cell_type": "markdown",
   "metadata": {},
   "source": [
    "## Loading and cleaning data\n",
    "\n",
    "Let's load and clean the dataframe, updating variable types for later visualization."
   ]
  },
  {
   "cell_type": "code",
   "execution_count": 3,
   "metadata": {
    "collapsed": false
   },
   "outputs": [
    {
     "data": {
      "text/html": [
       "<div>\n",
       "<table border=\"1\" class=\"dataframe\">\n",
       "  <thead>\n",
       "    <tr style=\"text-align: right;\">\n",
       "      <th></th>\n",
       "      <th>Unnamed: 0</th>\n",
       "      <th>Membership Type</th>\n",
       "      <th>Bike</th>\n",
       "      <th>Checkout Date</th>\n",
       "      <th>Checkout Time</th>\n",
       "      <th>Checkout Kiosk</th>\n",
       "      <th>Return Kiosk</th>\n",
       "      <th>Duration (Minutes)</th>\n",
       "    </tr>\n",
       "  </thead>\n",
       "  <tbody>\n",
       "    <tr>\n",
       "      <th>0</th>\n",
       "      <td>0</td>\n",
       "      <td>Founding Member (Austin B-cycle)</td>\n",
       "      <td>966</td>\n",
       "      <td>2013-12-21</td>\n",
       "      <td>09:09:00</td>\n",
       "      <td>4th &amp; Congress</td>\n",
       "      <td>Republic Square</td>\n",
       "      <td>5</td>\n",
       "    </tr>\n",
       "    <tr>\n",
       "      <th>1</th>\n",
       "      <td>75</td>\n",
       "      <td>Annual Membership (Austin B-cycle)</td>\n",
       "      <td>453</td>\n",
       "      <td>2013-12-21</td>\n",
       "      <td>18:36:00</td>\n",
       "      <td>South Congress &amp; Elizabeth</td>\n",
       "      <td>5th &amp; Bowie</td>\n",
       "      <td>10</td>\n",
       "    </tr>\n",
       "    <tr>\n",
       "      <th>2</th>\n",
       "      <td>74</td>\n",
       "      <td>Founding Member (Austin B-cycle)</td>\n",
       "      <td>116</td>\n",
       "      <td>2013-12-21</td>\n",
       "      <td>18:04:00</td>\n",
       "      <td>2nd &amp; Congress</td>\n",
       "      <td>4th &amp; Congress</td>\n",
       "      <td>5</td>\n",
       "    </tr>\n",
       "    <tr>\n",
       "      <th>3</th>\n",
       "      <td>73</td>\n",
       "      <td>Founding Member (Austin B-cycle)</td>\n",
       "      <td>971</td>\n",
       "      <td>2013-12-21</td>\n",
       "      <td>17:56:00</td>\n",
       "      <td>5th &amp; Bowie</td>\n",
       "      <td>2nd &amp; Congress</td>\n",
       "      <td>7</td>\n",
       "    </tr>\n",
       "    <tr>\n",
       "      <th>4</th>\n",
       "      <td>72</td>\n",
       "      <td>24-Hour Kiosk (Austin B-cycle)</td>\n",
       "      <td>14</td>\n",
       "      <td>2013-12-21</td>\n",
       "      <td>17:49:00</td>\n",
       "      <td>Barton Springs &amp; Riverside</td>\n",
       "      <td>City Hall / Lavaca &amp; 2nd</td>\n",
       "      <td>6</td>\n",
       "    </tr>\n",
       "  </tbody>\n",
       "</table>\n",
       "</div>"
      ],
      "text/plain": [
       "   Unnamed: 0                     Membership Type Bike Checkout Date  \\\n",
       "0           0    Founding Member (Austin B-cycle)  966    2013-12-21   \n",
       "1          75  Annual Membership (Austin B-cycle)  453    2013-12-21   \n",
       "2          74    Founding Member (Austin B-cycle)  116    2013-12-21   \n",
       "3          73    Founding Member (Austin B-cycle)  971    2013-12-21   \n",
       "4          72      24-Hour Kiosk (Austin B-cycle)   14    2013-12-21   \n",
       "\n",
       "  Checkout Time              Checkout Kiosk              Return Kiosk  \\\n",
       "0      09:09:00              4th & Congress           Republic Square   \n",
       "1      18:36:00  South Congress & Elizabeth               5th & Bowie   \n",
       "2      18:04:00              2nd & Congress            4th & Congress   \n",
       "3      17:56:00                 5th & Bowie            2nd & Congress   \n",
       "4      17:49:00  Barton Springs & Riverside  City Hall / Lavaca & 2nd   \n",
       "\n",
       "   Duration (Minutes)  \n",
       "0                   5  \n",
       "1                  10  \n",
       "2                   5  \n",
       "3                   7  \n",
       "4                   6  "
      ]
     },
     "execution_count": 3,
     "metadata": {},
     "output_type": "execute_result"
    }
   ],
   "source": [
    "trips_df = pd.read_csv('../input/all_trips.csv')\n",
    "trips_df.head()"
   ]
  },
  {
   "cell_type": "code",
   "execution_count": null,
   "metadata": {
    "collapsed": true
   },
   "outputs": [],
   "source": []
  }
 ],
 "metadata": {
  "anaconda-cloud": {},
  "kernelspec": {
   "display_name": "Python [default]",
   "language": "python",
   "name": "python3"
  },
  "language_info": {
   "codemirror_mode": {
    "name": "ipython",
    "version": 3
   },
   "file_extension": ".py",
   "mimetype": "text/x-python",
   "name": "python",
   "nbconvert_exporter": "python",
   "pygments_lexer": "ipython3",
   "version": "3.5.2"
  }
 },
 "nbformat": 4,
 "nbformat_minor": 0
}
