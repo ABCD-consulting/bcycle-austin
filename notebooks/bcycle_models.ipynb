{
 "cells": [
  {
   "cell_type": "markdown",
   "metadata": {},
   "source": [
    "# BCycle Austin models\n",
    "\n",
    "This notebook concludes the BCycle Austin series of blog posts, and looks at how machine learning could be used to help the BCycle team. I'll be using weather data in addition to the station and bike information, and building models which I hope might be useful. Let's get started !"
   ]
  },
  {
   "cell_type": "markdown",
   "metadata": {},
   "source": [
    "## Imports and data loading\n",
    "\n",
    "Before getting started, let's import some useful libraries for visualization, and the bcycle utils library."
   ]
  },
  {
   "cell_type": "code",
   "execution_count": 1,
   "metadata": {
    "collapsed": false
   },
   "outputs": [],
   "source": [
    "import pandas as pd\n",
    "import numpy as np\n",
    "import matplotlib.pyplot as plt\n",
    "import folium\n",
    "import seaborn as sns\n",
    "\n",
    "from bcycle_lib.utils import *\n",
    "\n",
    "%matplotlib inline\n",
    "plt.rc('xtick', labelsize=14) \n",
    "plt.rc('ytick', labelsize=14) \n",
    "\n",
    "# for auto-reloading external modules\n",
    "# see http://stackoverflow.com/questions/1907993/autoreload-of-modules-in-ipython\n",
    "%load_ext autoreload\n",
    "%autoreload 2"
   ]
  },
  {
   "cell_type": "markdown",
   "metadata": {},
   "source": [
    "## Loading and cleaning weather data\n",
    "\n",
    "I used [Weather Underground](https://www.wunderground.com/history/airport/KATT/2016/4/1/CustomHistory.html?dayend=3 1&monthend=5&yearend=2016&req_city=&req_state=&req_statename=&reqdb.zip=&reqdb.magic=&reqdb.wmo=&format=1) to download a CSV with daily weather information from Austin's Camp Mabry station (KATT). This includes the following data fields.\n",
    "\n",
    "* Date\n",
    "* Min, mean, and max:\n",
    "  * Temperature (degrees Fahreinheit)\n",
    "  * Dew Point (degrees Fahreinheit)\n",
    "  * Humidity (%)\n",
    "  * Sea Level Pressure (inches)\n",
    "  * Visibility (miles)\n",
    "  * Wind speed (mph)\n",
    "* Max gust (mph)\n",
    "* Precipitation (inches)\n",
    "* Events (combinations of Fog, Rain, Thunderstorm)\n",
    "\n",
    "There are likely to be a lot of highly correlated fields in the data, so I'll check these columns and drop them if needed. "
   ]
  },
  {
   "cell_type": "code",
   "execution_count": 2,
   "metadata": {
    "collapsed": false
   },
   "outputs": [
    {
     "data": {
      "text/html": [
       "<div>\n",
       "<table border=\"1\" class=\"dataframe\">\n",
       "  <thead>\n",
       "    <tr style=\"text-align: right;\">\n",
       "      <th></th>\n",
       "      <th>max_temp</th>\n",
       "      <th>min_temp</th>\n",
       "      <th>max_humidity</th>\n",
       "      <th>min_humidity</th>\n",
       "      <th>max_pressure</th>\n",
       "      <th>min_pressure</th>\n",
       "      <th>max_wind</th>\n",
       "      <th>min_wind</th>\n",
       "      <th>max_gust</th>\n",
       "      <th>precipitation</th>\n",
       "      <th>cloud_pct</th>\n",
       "    </tr>\n",
       "  </thead>\n",
       "  <tbody>\n",
       "    <tr>\n",
       "      <th>count</th>\n",
       "      <td>61.000000</td>\n",
       "      <td>61.000000</td>\n",
       "      <td>61.000000</td>\n",
       "      <td>61.000000</td>\n",
       "      <td>61.000000</td>\n",
       "      <td>61.000000</td>\n",
       "      <td>61.000000</td>\n",
       "      <td>61.000000</td>\n",
       "      <td>61.000000</td>\n",
       "      <td>61.000000</td>\n",
       "      <td>61.000000</td>\n",
       "    </tr>\n",
       "    <tr>\n",
       "      <th>mean</th>\n",
       "      <td>81.901639</td>\n",
       "      <td>62.360656</td>\n",
       "      <td>90.721311</td>\n",
       "      <td>53.475410</td>\n",
       "      <td>30.045246</td>\n",
       "      <td>29.867213</td>\n",
       "      <td>13.737705</td>\n",
       "      <td>5.295082</td>\n",
       "      <td>22.770492</td>\n",
       "      <td>0.235410</td>\n",
       "      <td>55.532787</td>\n",
       "    </tr>\n",
       "    <tr>\n",
       "      <th>std</th>\n",
       "      <td>5.682443</td>\n",
       "      <td>7.122810</td>\n",
       "      <td>8.374826</td>\n",
       "      <td>17.527699</td>\n",
       "      <td>0.121197</td>\n",
       "      <td>0.134872</td>\n",
       "      <td>3.224395</td>\n",
       "      <td>1.676745</td>\n",
       "      <td>5.643266</td>\n",
       "      <td>0.424349</td>\n",
       "      <td>34.348442</td>\n",
       "    </tr>\n",
       "    <tr>\n",
       "      <th>min</th>\n",
       "      <td>66.000000</td>\n",
       "      <td>44.000000</td>\n",
       "      <td>66.000000</td>\n",
       "      <td>15.000000</td>\n",
       "      <td>29.760000</td>\n",
       "      <td>29.540000</td>\n",
       "      <td>8.000000</td>\n",
       "      <td>2.000000</td>\n",
       "      <td>13.000000</td>\n",
       "      <td>0.000000</td>\n",
       "      <td>0.000000</td>\n",
       "    </tr>\n",
       "    <tr>\n",
       "      <th>25%</th>\n",
       "      <td>78.000000</td>\n",
       "      <td>58.000000</td>\n",
       "      <td>87.000000</td>\n",
       "      <td>40.000000</td>\n",
       "      <td>29.980000</td>\n",
       "      <td>29.780000</td>\n",
       "      <td>12.000000</td>\n",
       "      <td>4.000000</td>\n",
       "      <td>19.000000</td>\n",
       "      <td>0.000000</td>\n",
       "      <td>37.500000</td>\n",
       "    </tr>\n",
       "    <tr>\n",
       "      <th>50%</th>\n",
       "      <td>83.000000</td>\n",
       "      <td>63.000000</td>\n",
       "      <td>93.000000</td>\n",
       "      <td>56.000000</td>\n",
       "      <td>30.070000</td>\n",
       "      <td>29.900000</td>\n",
       "      <td>14.000000</td>\n",
       "      <td>5.000000</td>\n",
       "      <td>22.000000</td>\n",
       "      <td>0.010000</td>\n",
       "      <td>62.500000</td>\n",
       "    </tr>\n",
       "    <tr>\n",
       "      <th>75%</th>\n",
       "      <td>87.000000</td>\n",
       "      <td>67.000000</td>\n",
       "      <td>97.000000</td>\n",
       "      <td>67.000000</td>\n",
       "      <td>30.120000</td>\n",
       "      <td>29.960000</td>\n",
       "      <td>16.000000</td>\n",
       "      <td>7.000000</td>\n",
       "      <td>26.000000</td>\n",
       "      <td>0.310000</td>\n",
       "      <td>87.500000</td>\n",
       "    </tr>\n",
       "    <tr>\n",
       "      <th>max</th>\n",
       "      <td>91.000000</td>\n",
       "      <td>77.000000</td>\n",
       "      <td>100.000000</td>\n",
       "      <td>84.000000</td>\n",
       "      <td>30.320000</td>\n",
       "      <td>30.180000</td>\n",
       "      <td>21.000000</td>\n",
       "      <td>9.000000</td>\n",
       "      <td>37.000000</td>\n",
       "      <td>2.250000</td>\n",
       "      <td>100.000000</td>\n",
       "    </tr>\n",
       "  </tbody>\n",
       "</table>\n",
       "</div>"
      ],
      "text/plain": [
       "        max_temp   min_temp  max_humidity  min_humidity  max_pressure  \\\n",
       "count  61.000000  61.000000     61.000000     61.000000     61.000000   \n",
       "mean   81.901639  62.360656     90.721311     53.475410     30.045246   \n",
       "std     5.682443   7.122810      8.374826     17.527699      0.121197   \n",
       "min    66.000000  44.000000     66.000000     15.000000     29.760000   \n",
       "25%    78.000000  58.000000     87.000000     40.000000     29.980000   \n",
       "50%    83.000000  63.000000     93.000000     56.000000     30.070000   \n",
       "75%    87.000000  67.000000     97.000000     67.000000     30.120000   \n",
       "max    91.000000  77.000000    100.000000     84.000000     30.320000   \n",
       "\n",
       "       min_pressure   max_wind   min_wind   max_gust  precipitation  \\\n",
       "count     61.000000  61.000000  61.000000  61.000000      61.000000   \n",
       "mean      29.867213  13.737705   5.295082  22.770492       0.235410   \n",
       "std        0.134872   3.224395   1.676745   5.643266       0.424349   \n",
       "min       29.540000   8.000000   2.000000  13.000000       0.000000   \n",
       "25%       29.780000  12.000000   4.000000  19.000000       0.000000   \n",
       "50%       29.900000  14.000000   5.000000  22.000000       0.010000   \n",
       "75%       29.960000  16.000000   7.000000  26.000000       0.310000   \n",
       "max       30.180000  21.000000   9.000000  37.000000       2.250000   \n",
       "\n",
       "        cloud_pct  \n",
       "count   61.000000  \n",
       "mean    55.532787  \n",
       "std     34.348442  \n",
       "min      0.000000  \n",
       "25%     37.500000  \n",
       "50%     62.500000  \n",
       "75%     87.500000  \n",
       "max    100.000000  "
      ]
     },
     "execution_count": 2,
     "metadata": {},
     "output_type": "execute_result"
    }
   ],
   "source": [
    "weather_df = load_weather()\n",
    "weather_df.describe()\n"
   ]
  },
  {
   "cell_type": "code",
   "execution_count": 3,
   "metadata": {
    "collapsed": false
   },
   "outputs": [
    {
     "name": "stdout",
     "output_type": "stream",
     "text": [
      "<class 'pandas.core.frame.DataFrame'>\n",
      "DatetimeIndex: 61 entries, 2016-04-01 to 2016-05-31\n",
      "Data columns (total 14 columns):\n",
      "max_temp         61 non-null uint8\n",
      "min_temp         61 non-null uint8\n",
      "max_humidity     61 non-null uint8\n",
      "min_humidity     61 non-null uint8\n",
      "max_pressure     61 non-null float64\n",
      "min_pressure     61 non-null float64\n",
      "max_wind         61 non-null uint8\n",
      "min_wind         61 non-null uint8\n",
      "max_gust         61 non-null uint8\n",
      "precipitation    61 non-null float32\n",
      "cloud_pct        61 non-null float32\n",
      "thunderstorm     61 non-null bool\n",
      "fog              61 non-null bool\n",
      "rain             61 non-null bool\n",
      "dtypes: bool(3), float32(2), float64(2), uint8(7)\n",
      "memory usage: 2.5 KB\n"
     ]
    }
   ],
   "source": [
    "weather_df.info()"
   ]
  },
  {
   "cell_type": "code",
   "execution_count": 4,
   "metadata": {
    "collapsed": false
   },
   "outputs": [
    {
     "data": {
      "text/plain": [
       "<matplotlib.axes._subplots.AxesSubplot at 0x1069b4a58>"
      ]
     },
     "execution_count": 4,
     "metadata": {},
     "output_type": "execute_result"
    },
    {
     "data": {
      "image/png": "[encoded data removed]",
      "text/plain": [
       "<matplotlib.figure.Figure at 0x11319cb38>"
      ]
     },
     "metadata": {},
     "output_type": "display_data"
    }
   ],
   "source": [
    "weather_df[['max_temp', 'min_temp']].plot.line(legend=True)"
   ]
  },
  {
   "cell_type": "code",
   "execution_count": 5,
   "metadata": {
    "collapsed": false
   },
   "outputs": [
    {
     "data": {
      "text/plain": [
       "<matplotlib.axes._subplots.AxesSubplot at 0x11587cc50>"
      ]
     },
     "execution_count": 5,
     "metadata": {},
     "output_type": "execute_result"
    },
    {
     "data": {
      "image/png": "[encoded data removed]",
      "text/plain": [
       "<matplotlib.figure.Figure at 0x11319c8d0>"
      ]
     },
     "metadata": {},
     "output_type": "display_data"
    }
   ],
   "source": [
    "weather_df['precipitation'].plot.bar(figsize=(20,10))"
   ]
  },
  {
   "cell_type": "code",
   "execution_count": null,
   "metadata": {
    "collapsed": true
   },
   "outputs": [],
   "source": []
  }
 ],
 "metadata": {
  "anaconda-cloud": {},
  "kernelspec": {
   "display_name": "Python 3",
   "language": "python",
   "name": "python3"
  },
  "language_info": {
   "codemirror_mode": {
    "name": "ipython",
    "version": 3
   },
   "file_extension": ".py",
   "mimetype": "text/x-python",
   "name": "python",
   "nbconvert_exporter": "python",
   "pygments_lexer": "ipython3",
   "version": "3.5.2"
  }
 },
 "nbformat": 4,
 "nbformat_minor": 0
}
